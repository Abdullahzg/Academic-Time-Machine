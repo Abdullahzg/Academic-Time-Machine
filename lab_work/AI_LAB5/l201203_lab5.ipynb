{
  "nbformat": 4,
  "nbformat_minor": 0,
  "metadata": {
    "colab": {
      "provenance": []
    },
    "kernelspec": {
      "name": "python3",
      "display_name": "Python 3"
    },
    "language_info": {
      "name": "python"
    }
  },
  "cells": [
    {
      "cell_type": "code",
      "execution_count": 4,
      "metadata": {
        "id": "qm1kWzbkCumI",
        "colab": {
          "base_uri": "https://localhost:8080/"
        },
        "outputId": "920c3237-9bcd-47dc-b5b0-665a64fe6b17"
      },
      "outputs": [
        {
          "output_type": "stream",
          "name": "stdout",
          "text": [
            "[4, 36, 64, 100, 121, 16, 144, 49, 169, 289, 0, 9, 441]\n",
            "[8, 216, 512, 1000, 1331, 64, 1728, 343, 2197, 4913, 0, 27, 9261]\n"
          ]
        }
      ],
      "source": [
        "numbers_list = [2, 6, 8, 10, 11, 4, 12, 7, 13, 17, 0, 3, 21]\n",
        "squared_list = list(map(lambda num: num*num, numbers_list))\n",
        "cubed_list = list(map(lambda num: num*num*num, numbers_list))\n",
        "\n",
        "print(squared_list)\n",
        "print(cubed_list) "
      ]
    },
    {
      "cell_type": "code",
      "source": [
        "class LIFOQueue:\n",
        "  def __init__(self):\n",
        "    self.container = []\n",
        "  \n",
        "  def push(self,item):\n",
        "    self.container.append(item)\n",
        "\n",
        "  def pop(self):\n",
        "    if len(self.container) == 0: \n",
        "      return []\n",
        "    return self.container.pop()\n",
        "\n",
        "myQueue=LIFOQueue()\n",
        "myQueue.push('a')\n",
        "myQueue.push('b')\n",
        "myQueue.push('c')\n",
        "\n",
        "print(myQueue.pop())\n",
        "print(myQueue.pop())\n",
        "print(myQueue.pop())\n",
        "print(myQueue.pop())"
      ],
      "metadata": {
        "colab": {
          "base_uri": "https://localhost:8080/"
        },
        "id": "PqlbPXg1LWqd",
        "outputId": "d87bec11-3f22-4222-db73-d2bb252251c7"
      },
      "execution_count": 8,
      "outputs": [
        {
          "output_type": "stream",
          "name": "stdout",
          "text": [
            "c\n",
            "b\n",
            "a\n",
            "[]\n"
          ]
        }
      ]
    },
    {
      "cell_type": "code",
      "source": [
        "class Rectangle:\n",
        "  def __init__(self, length, width):\n",
        "    self.length=length\n",
        "    self.width=width\n",
        "  \n",
        "  def getArea(self):\n",
        "    return self.length*self.width\n",
        "\n",
        "myRect=Rectangle(6,7)\n",
        "print(\"Area of rectangle is\", myRect.getArea())"
      ],
      "metadata": {
        "colab": {
          "base_uri": "https://localhost:8080/"
        },
        "id": "BmSu0OLBPzxS",
        "outputId": "09cb1a6d-469d-4961-ba17-1afc7dce697d"
      },
      "execution_count": 10,
      "outputs": [
        {
          "output_type": "stream",
          "name": "stdout",
          "text": [
            "Area of rectangle is 42\n"
          ]
        }
      ]
    }
  ]
}