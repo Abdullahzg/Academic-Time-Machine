{
  "nbformat": 4,
  "nbformat_minor": 0,
  "metadata": {
    "colab": {
      "provenance": []
    },
    "kernelspec": {
      "name": "python3",
      "display_name": "Python 3"
    },
    "language_info": {
      "name": "python"
    }
  },
  "cells": [
    {
      "cell_type": "code",
      "source": [
        "#PRACTICE"
      ],
      "metadata": {
        "id": "_POAlAHIHvvu"
      },
      "execution_count": null,
      "outputs": []
    },
    {
      "cell_type": "code",
      "source": [
        "\n",
        "# List of integers\n",
        "primes = [2, 3, 5, 7]\n",
        "\n",
        "# We can put other types of things in lists\n",
        "planets = ['Mercury', 'Venus', 'Earth', 'Mars', 'Jupiter', 'Saturn', 'Uranus', 'Neptune']\n",
        "\n",
        "# We can even make a list of lists\n",
        "hands = [\n",
        "    ['J', 'Q', 'K'],\n",
        "    ['2', '2', '2'],\n",
        "    ['6', 'A', 'K'], # (Comma after the last element is optional)\n",
        "]\n",
        "\n",
        "# A list can contain a mix of different types of variables:\n",
        "my_favourite_things = [32, 'AI Lab, 100.25']\n",
        "\n"
      ],
      "metadata": {
        "id": "_KlVkXofFKku"
      },
      "execution_count": 43,
      "outputs": []
    },
    {
      "cell_type": "code",
      "source": [
        "planets[0]\t# 'Mercury'\n",
        "planets[1]\t# 'Venus'\n",
        "planets[-1]\t# 'Neptune'\n",
        "planets[-2]\t# 'Uranus'\n",
        "\n",
        "# List Slicing\n",
        "\n",
        "# first three planets\n",
        "planets[0:3]\t# ['Mercury', 'Venus', 'Earth']\n",
        "planets[:3]\t# ['Mercury', 'Venus', 'Earth']\n",
        "\n",
        "# All the planets from index 3 onward\n",
        "planets[3:]\t# ['Mars', 'Jupiter', 'Saturn', 'Uranus', 'Neptune']\n",
        "\n",
        "# All the planets except the first and last\n",
        "planets[1:-1]\t# ['Venus', 'Earth', 'Mars', 'Jupiter', 'Saturn', 'Uranus']\n",
        "\n",
        "# The last 3 planets\n",
        "planets[-3:]\t# ['Saturn', 'Uranus', 'Neptune']\n"
      ],
      "metadata": {
        "colab": {
          "base_uri": "https://localhost:8080/"
        },
        "id": "DeFEBfpkFvwc",
        "outputId": "5d89fbdc-9c13-43b6-d627-cd54072fd041"
      },
      "execution_count": 44,
      "outputs": [
        {
          "output_type": "execute_result",
          "data": {
            "text/plain": [
              "['Saturn', 'Uranus', 'Neptune']"
            ]
          },
          "metadata": {},
          "execution_count": 44
        }
      ]
    },
    {
      "cell_type": "code",
      "source": [
        "# Rename Mars\n",
        "planets[3] = 'Malacandra'\t\n",
        "# ['Mercury', 'Venus', 'Earth', 'Malacandra', 'Jupiter', 'Saturn', 'Uranus', 'Neptune']\n",
        "\n",
        "# Rename multiple list indexes\n",
        "planets[:3] = ['Mur', 'Vee', 'Ur']\n",
        "['Mur', 'Vee', 'Ur', 'Malacandra', 'Jupiter', 'Saturn', 'Uranus', 'Neptune']\n"
      ],
      "metadata": {
        "colab": {
          "base_uri": "https://localhost:8080/"
        },
        "id": "l4OnTfeOF2wu",
        "outputId": "7d2cee68-c6a5-41e9-b038-dfb97df511eb"
      },
      "execution_count": 45,
      "outputs": [
        {
          "output_type": "execute_result",
          "data": {
            "text/plain": [
              "['Mur', 'Vee', 'Ur', 'Malacandra', 'Jupiter', 'Saturn', 'Uranus', 'Neptune']"
            ]
          },
          "metadata": {},
          "execution_count": 45
        }
      ]
    },
    {
      "cell_type": "code",
      "source": [
        "len(planets)\t# 8\n",
        "\n",
        "# The planets sorted in alphabetical order\n",
        "sorted(planets)\n",
        "# ['Earth', 'Jupiter', 'Mars', 'Mercury', 'Neptune', 'Saturn', 'Uranus', 'Venus']\n",
        "\n",
        "primes = [2, 3, 5, 7]\n",
        "sum(primes)\t# 17\n",
        "max(primes)\t# 7\n",
        "\n",
        "# Let’s add Pluto to the planets list\n",
        "planets.append('Pluto')\n",
        "\n",
        "# Pop removes and returns the last element of the list\n",
        "planets.pop()\t# ‘Pluto’\n",
        "\n",
        "# Remove an item from a list given its index instead of its value\n",
        "a = [-1, 1, 66.25, 333, 333, 1234.5]\n",
        "del a[0]\t# [1, 66.25, 333, 333, 1234.5]\n",
        "\n",
        "# Remove slices from the list\n",
        "del a[2:4]\t# [1, 66.25, 1234.5]\n",
        "\n",
        "planets.index('Earth')\t# 2\n",
        "\n",
        "# Is Earth a planet?\n",
        "\"Earth\" in planets\t# True\n",
        "\n",
        "# Is Pluto a planet?\n",
        "\"Pluto\" in planets\t# False (We removed it remember)\n",
        "\n",
        "# Finally to find all the methods associated with Python list object\n",
        "help(planets)\n"
      ],
      "metadata": {
        "colab": {
          "base_uri": "https://localhost:8080/",
          "height": 235
        },
        "id": "UMDKkrdWGAXS",
        "outputId": "8ac5db90-1fb2-4870-e13a-c2942e3d83ab"
      },
      "execution_count": 46,
      "outputs": [
        {
          "output_type": "error",
          "ename": "ValueError",
          "evalue": "ignored",
          "traceback": [
            "\u001b[0;31m---------------------------------------------------------------------------\u001b[0m",
            "\u001b[0;31mValueError\u001b[0m                                Traceback (most recent call last)",
            "\u001b[0;32m<ipython-input-46-aeb31598c956>\u001b[0m in \u001b[0;36m<module>\u001b[0;34m\u001b[0m\n\u001b[1;32m     22\u001b[0m \u001b[0;32mdel\u001b[0m \u001b[0ma\u001b[0m\u001b[0;34m[\u001b[0m\u001b[0;36m2\u001b[0m\u001b[0;34m:\u001b[0m\u001b[0;36m4\u001b[0m\u001b[0;34m]\u001b[0m      \u001b[0;31m# [1, 66.25, 1234.5]\u001b[0m\u001b[0;34m\u001b[0m\u001b[0;34m\u001b[0m\u001b[0m\n\u001b[1;32m     23\u001b[0m \u001b[0;34m\u001b[0m\u001b[0m\n\u001b[0;32m---> 24\u001b[0;31m \u001b[0mplanets\u001b[0m\u001b[0;34m.\u001b[0m\u001b[0mindex\u001b[0m\u001b[0;34m(\u001b[0m\u001b[0;34m'Earth'\u001b[0m\u001b[0;34m)\u001b[0m  \u001b[0;31m# 2\u001b[0m\u001b[0;34m\u001b[0m\u001b[0;34m\u001b[0m\u001b[0m\n\u001b[0m\u001b[1;32m     25\u001b[0m \u001b[0;34m\u001b[0m\u001b[0m\n\u001b[1;32m     26\u001b[0m \u001b[0;31m# Is Earth a planet?\u001b[0m\u001b[0;34m\u001b[0m\u001b[0;34m\u001b[0m\u001b[0;34m\u001b[0m\u001b[0m\n",
            "\u001b[0;31mValueError\u001b[0m: 'Earth' is not in list"
          ]
        }
      ]
    },
    {
      "cell_type": "code",
      "source": [
        "# With list comprehension\n",
        "squares = [n**2 for n in range(10)]\t# [0, 1, 4, 9, 16, 25, 36, 49, 64, 81]\n",
        "\n",
        "# Without list comprehension\n",
        "squares = []\n",
        "for n in range(10):\n",
        "    squares.append(n**2)\n",
        "\n",
        "# [0, 1, 4, 9, 16, 25, 36, 49, 64, 81]\n",
        "\n",
        "# List comprehensions are great of filtering and transformations\n",
        "short_planets = [planet for planet in planets if len(planet) < 6]\n",
        "# ['Venus', 'Earth', 'Mars']\n",
        "\n",
        "[\n",
        "    planet.upper() + '!' \n",
        "    for planet in planets \n",
        "    if len(planet) < 6\n",
        "]\n",
        "# ['VENUS!', 'EARTH!', 'MARS!']\n",
        "\n",
        "# One line solution\n",
        "def count_negatives(nums):\n",
        "    # False + True + True + False + False equals to 2.\n",
        "    # return len([num for num in nums if num < 0])\n",
        "    return sum([num < 0 for num in nums])\n",
        "\n",
        "count_negatives([5, -1, -2, 0, 3])\n"
      ],
      "metadata": {
        "colab": {
          "base_uri": "https://localhost:8080/"
        },
        "id": "l3UL3f7HGNIi",
        "outputId": "3ed2f02d-480c-4a64-e1d3-da8014e07ad1"
      },
      "execution_count": 47,
      "outputs": [
        {
          "output_type": "execute_result",
          "data": {
            "text/plain": [
              "2"
            ]
          },
          "metadata": {},
          "execution_count": 47
        }
      ]
    },
    {
      "cell_type": "code",
      "source": [
        "t = (1, 2, 3)\n",
        "t = 1, 2, 3\t# equivalent to above\n",
        "# t[0] = 100\t# TypeError: 'tuple' object does not support item assignment\n",
        "\n",
        "# Classic Python Swapping Trick\n",
        "a = 1\n",
        "b = 0\n",
        "a, b = b, a\t# 0 1\n"
      ],
      "metadata": {
        "id": "byWSjluXGZ8k"
      },
      "execution_count": 53,
      "outputs": []
    },
    {
      "cell_type": "code",
      "source": [
        "thistuple = (1, 3, 7, 8, 7, 5, 4, 6, 8, 5)\n",
        "x = thistuple.count(5)\t# 2\n",
        "\n",
        "thistuple = (1, 3, 7, 8, 7, 5, 4, 6, 8, 5)\n",
        "x = thistuple.index(8)\t# 3\n"
      ],
      "metadata": {
        "id": "1M3aAli3GluS"
      },
      "execution_count": 49,
      "outputs": []
    },
    {
      "cell_type": "code",
      "source": [
        "MLB_team = {\n",
        "     'Colorado' : 'Rockies',\n",
        "     'Boston'   : 'Red Sox',\n",
        "     'Minnesota': 'Twins',\n",
        "     'Milwaukee': 'Brewers',\n",
        "     'Seattle'  : 'Mariners'\n",
        "}\n",
        "# Can also be defined as:\n",
        "MLB_team = dict([\n",
        "     ('Colorado', 'Rockies'),\n",
        "     ('Boston', 'Red Sox'),\n",
        "     ('Minnesota', 'Twins'),\n",
        "     ('Milwaukee', 'Brewers'),\n",
        "     ('Seattle', 'Mariners')\n",
        "])\n",
        "# Another way\n",
        "tel = dict(sape=4139, guido=4127, jack=4098)\n",
        "\n",
        "# dict comprehensions can be used to create dictionaries from arbitrary key and value expression\n",
        "{x: x**2 for x in (2, 4, 6)}\t# {2: 4, 4: 16, 6: 36}\n",
        "\n",
        "# Building a dictionary incrementally – if you don’t know all the key-value pairs in advance\n",
        "person = {}\n",
        "person['fname'] = 'Joe'\n",
        "person['lname'] = 'Fonebone'\n",
        "person['age'] = 51\n",
        "person['spouse'] = 'Edna'\n",
        "person['children'] = ['Ralph', 'Betty', 'Joey']\n",
        "person['pets'] = {'dog': 'Fido', 'cat': 'Sox'}\n",
        "# {'fname': 'Joe', 'lname': 'Fonebone', 'age': 51, 'spouse': 'Edna', 'children': ['Ralph', 'Betty', 'Joey'], 'pets': {'dog': 'Fido', 'cat': 'Sox'}}\n",
        "\n",
        "# Retrieve a value\n",
        "MLB_team['Minnesota']\t# 'Twins'\n",
        "\n",
        "# Add a new entry\n",
        "MLB_team['Kansas City'] = 'Royals'\n",
        "\n",
        "# Update an entry\n",
        "MLB_team['Seattle'] = 'Seahawks'\n"
      ],
      "metadata": {
        "id": "u0BQAFh_Gp1C"
      },
      "execution_count": 55,
      "outputs": []
    },
    {
      "cell_type": "code",
      "source": [
        "hash = {}\n",
        "hash['word'] = 'garfield'\n",
        "hash['count'] = 42\n",
        "s = 'I want %(count)d copies of %(word)s' % hash  # %d for int, %s for string\n",
        "# 'I want 42 copies of garfield'\n"
      ],
      "metadata": {
        "id": "iJw5PrjHHc6-"
      },
      "execution_count": 56,
      "outputs": []
    },
    {
      "cell_type": "code",
      "source": [
        "# Let’s use this dict for to demonstrate dictionary functions\n",
        "d = {'a': 10, 'b': 20, 'c': 30}\n",
        "\n",
        "# Clears a dictionary.\n",
        "d.clear()\t# {}\n",
        "\n",
        "# Returns the value for a key if it exists in the dictionary.\n",
        "print(d.get('b'))\t# 20\n",
        "\n",
        "# Removes a key from a dictionary, if it is present, and returns its value.\n",
        "d.pop('b')\t# 20\n",
        "\n",
        "# Returns a list of key-value pairs in a dictionary.\n",
        "list(d.items())\t# [('a', 10), ('b', 20), ('c', 30)]\n",
        "list(d.items())[1][0]\t# 'b'\n",
        "list(d.items())[1][1]\t# 20\n",
        "\n",
        "# Returns a list of keys in a dictionary.\n",
        "list(d.keys())\t# ['a', 'b', 'c']\n",
        "\n",
        "# Returns a list of values in a dictionary.\n",
        "list(d.values())\t# [10, 20, 30]\n",
        "\n",
        "# Removes the last key-value pair from a dictionary.\n",
        "d.popitem()\t# ('c', 30)\n",
        "\n",
        "# Merges a dictionary with another dictionary or with an iterable of key-value pairs.\n",
        "d2 = {'b': 200, 'd': 400}\n",
        "d.update(d2)\t# {'a': 10, 'b': 200, 'c': 30, 'd': 400}\n"
      ],
      "metadata": {
        "colab": {
          "base_uri": "https://localhost:8080/",
          "height": 252
        },
        "id": "dr25-AELHiec",
        "outputId": "bcb8857e-c737-454e-f3e9-8738d818a1c0"
      },
      "execution_count": 57,
      "outputs": [
        {
          "output_type": "stream",
          "name": "stdout",
          "text": [
            "None\n"
          ]
        },
        {
          "output_type": "error",
          "ename": "KeyError",
          "evalue": "ignored",
          "traceback": [
            "\u001b[0;31m---------------------------------------------------------------------------\u001b[0m",
            "\u001b[0;31mKeyError\u001b[0m                                  Traceback (most recent call last)",
            "\u001b[0;32m<ipython-input-57-e3cca9963523>\u001b[0m in \u001b[0;36m<module>\u001b[0;34m\u001b[0m\n\u001b[1;32m      9\u001b[0m \u001b[0;34m\u001b[0m\u001b[0m\n\u001b[1;32m     10\u001b[0m \u001b[0;31m# Removes a key from a dictionary, if it is present, and returns its value.\u001b[0m\u001b[0;34m\u001b[0m\u001b[0;34m\u001b[0m\u001b[0;34m\u001b[0m\u001b[0m\n\u001b[0;32m---> 11\u001b[0;31m \u001b[0md\u001b[0m\u001b[0;34m.\u001b[0m\u001b[0mpop\u001b[0m\u001b[0;34m(\u001b[0m\u001b[0;34m'b'\u001b[0m\u001b[0;34m)\u001b[0m      \u001b[0;31m# 20\u001b[0m\u001b[0;34m\u001b[0m\u001b[0;34m\u001b[0m\u001b[0m\n\u001b[0m\u001b[1;32m     12\u001b[0m \u001b[0;34m\u001b[0m\u001b[0m\n\u001b[1;32m     13\u001b[0m \u001b[0;31m# Returns a list of key-value pairs in a dictionary.\u001b[0m\u001b[0;34m\u001b[0m\u001b[0;34m\u001b[0m\u001b[0;34m\u001b[0m\u001b[0m\n",
            "\u001b[0;31mKeyError\u001b[0m: 'b'"
          ]
        }
      ]
    },
    {
      "cell_type": "code",
      "source": [
        "# EXERCISES"
      ],
      "metadata": {
        "id": "DC8C1JzPHy0H"
      },
      "execution_count": null,
      "outputs": []
    },
    {
      "cell_type": "code",
      "source": [],
      "metadata": {
        "id": "mZ-PLhElHrTI"
      },
      "execution_count": null,
      "outputs": []
    },
    {
      "cell_type": "code",
      "execution_count": 5,
      "metadata": {
        "colab": {
          "base_uri": "https://localhost:8080/",
          "height": 35
        },
        "id": "Ya3-TArTzkBf",
        "outputId": "e4f1863d-064e-46b4-8a73-f790e552db1e"
      },
      "outputs": [
        {
          "output_type": "execute_result",
          "data": {
            "text/plain": [
              "'Number of chickens: 3'"
            ],
            "application/vnd.google.colaboratory.intrinsic+json": {
              "type": "string"
            }
          },
          "metadata": {},
          "execution_count": 5
        }
      ],
      "source": [
        "def chickens(count):\n",
        "  if count>=10:\n",
        "    return \"Number of chickens: many\"\n",
        "  return \"Number of chickens: \" + str(count)\n",
        "chickens(3)"
      ]
    },
    {
      "cell_type": "code",
      "source": [
        "def getEnds(s):\n",
        "  newS=\"\"\n",
        "  if len(s)<3:\n",
        "    return newS\n",
        "  newS+=s[:3]\n",
        "  newS+=s[-3:]\n",
        "  return newS\n",
        "getEnds('intelligence')\n"
      ],
      "metadata": {
        "colab": {
          "base_uri": "https://localhost:8080/",
          "height": 35
        },
        "id": "IC97stsi1YPg",
        "outputId": "39c9be6b-bba5-4673-caeb-727de810f617"
      },
      "execution_count": 6,
      "outputs": [
        {
          "output_type": "execute_result",
          "data": {
            "text/plain": [
              "'intnce'"
            ],
            "application/vnd.google.colaboratory.intrinsic+json": {
              "type": "string"
            }
          },
          "metadata": {},
          "execution_count": 6
        }
      ]
    },
    {
      "cell_type": "code",
      "source": [
        "def replaceNew(s):\n",
        "  stra=s[0]\n",
        "  strb=\"@\"\n",
        "  s=s.replace(stra, strb)\n",
        "  if stra.islower():\n",
        "    s=s.replace(stra.upper(), strb)\n",
        "  else:\n",
        "    s=s.replace(stra.lower(), strb)\n",
        "  s = list(s)\n",
        "  s[0]=stra\n",
        "  s = \"\".join(s)\n",
        "  return s\n",
        "replaceNew(\"Ooogle\")"
      ],
      "metadata": {
        "colab": {
          "base_uri": "https://localhost:8080/",
          "height": 35
        },
        "id": "iyPF_ct03Syj",
        "outputId": "283afa77-8670-479c-f8ee-679aeffcb466"
      },
      "execution_count": 15,
      "outputs": [
        {
          "output_type": "execute_result",
          "data": {
            "text/plain": [
              "'O@@gle'"
            ],
            "application/vnd.google.colaboratory.intrinsic+json": {
              "type": "string"
            }
          },
          "metadata": {},
          "execution_count": 15
        }
      ]
    },
    {
      "cell_type": "code",
      "source": [
        "def jumble(a,b):\n",
        "  s=a[0:2]\n",
        "  s=list(s)\n",
        "  a=list(a)\n",
        "  b=list(b)\n",
        "  a[0]=b[0]\n",
        "  a[1]=b[1]\n",
        "  b[0]=s[0]\n",
        "  b[1]=s[1]\n",
        "  a=\"\".join(a)\n",
        "  b=\"\".join(b)\n",
        "  s=a + \" \" + b \n",
        "  return s\n",
        "jumble('dog', 'dinner')"
      ],
      "metadata": {
        "colab": {
          "base_uri": "https://localhost:8080/",
          "height": 35
        },
        "id": "YI3A6MCf7HXw",
        "outputId": "7baa5984-b380-463e-9380-3e1bc7cf6ab4"
      },
      "execution_count": 32,
      "outputs": [
        {
          "output_type": "execute_result",
          "data": {
            "text/plain": [
              "'dig donner'"
            ],
            "application/vnd.google.colaboratory.intrinsic+json": {
              "type": "string"
            }
          },
          "metadata": {},
          "execution_count": 32
        }
      ]
    },
    {
      "cell_type": "code",
      "source": [
        "def matchingEnds(l):\n",
        "  matches=0\n",
        "  for i in l:\n",
        "      if (len(i)>1):\n",
        "        if i[0]==i[-1]:\n",
        "          matches+=1\n",
        "  print(\"the count of the number of strings whose first and last chars of the string are the same is \" + str(matches))\n",
        "matchingEnds([\"strings\", \"mom\", \"funny\", \"dad\"]) "
      ],
      "metadata": {
        "colab": {
          "base_uri": "https://localhost:8080/"
        },
        "id": "KyUOZaci-VCg",
        "outputId": "4a0493a7-28f1-490e-835f-d7d118d1ad14"
      },
      "execution_count": 40,
      "outputs": [
        {
          "output_type": "stream",
          "name": "stdout",
          "text": [
            "the count of the number of strings whose first and last chars of the string are the same is 3\n"
          ]
        }
      ]
    },
    {
      "cell_type": "code",
      "source": [
        "def sortStrings(l):\n",
        "  return sorted(l)\n",
        "sorted([\"mix\", \"xyz\", \"apple\", \"xanadu\", \"aardvark\"])"
      ],
      "metadata": {
        "colab": {
          "base_uri": "https://localhost:8080/"
        },
        "id": "1Q623trhAOPg",
        "outputId": "85c27c51-e89b-4a77-91a7-9ec3744e8cb7"
      },
      "execution_count": 36,
      "outputs": [
        {
          "output_type": "execute_result",
          "data": {
            "text/plain": [
              "['aardvark', 'apple', 'mix', 'xanadu', 'xyz']"
            ]
          },
          "metadata": {},
          "execution_count": 36
        }
      ]
    },
    {
      "cell_type": "code",
      "source": [
        "def last(n): \n",
        "  return n[-1]\n",
        "def sortTuples(t):\n",
        "  return sorted(t, key=last)\n",
        "sortTuples([(1, 7), (1, 3), (3, 4, 5), (2, 2)])"
      ],
      "metadata": {
        "colab": {
          "base_uri": "https://localhost:8080/"
        },
        "id": "PkWRQVZWBN95",
        "outputId": "1e2ac4bb-e917-47d8-d755-d42ed4edb3fc"
      },
      "execution_count": 38,
      "outputs": [
        {
          "output_type": "execute_result",
          "data": {
            "text/plain": [
              "[(2, 2), (1, 3), (3, 4, 5), (1, 7)]"
            ]
          },
          "metadata": {},
          "execution_count": 38
        }
      ]
    }
  ]
}